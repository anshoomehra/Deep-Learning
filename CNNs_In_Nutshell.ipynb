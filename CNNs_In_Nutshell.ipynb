<b>  Check out the latest @ </b>

[https://github.com/anshoomehra/Deep-Learning-Class-Labs/blob/master/CNNs_Hyperparameter_Tuning_In_Nutshell.ipynb]
