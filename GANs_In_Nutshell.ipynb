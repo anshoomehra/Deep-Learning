{
 "cells": [
  {
   "cell_type": "markdown",
   "metadata": {},
   "source": [
    "# GANs - Generative Advesarial Networks ..\n",
    "\n",
    "Creating this as reference to detailed explanation & labs on GANs\n",
    "\n",
    "https://github.com/anshoomehra/udacity-deep-learning/tree/master/gan_mnist\n",
    "\n",
    "# DCGANS - Deep Convolutional Generative Advesarial Networks ..\n",
    "\n",
    "https://github.com/anshoomehra/udacity-deep-learning/tree/master/dcgan-svhn"
   ]
  },
  {
   "cell_type": "code",
   "execution_count": null,
   "metadata": {},
   "outputs": [],
   "source": []
  }
 ],
 "metadata": {
  "kernelspec": {
   "display_name": "Python 3",
   "language": "python",
   "name": "python3"
  },
  "language_info": {
   "codemirror_mode": {
    "name": "ipython",
    "version": 3
   },
   "file_extension": ".py",
   "mimetype": "text/x-python",
   "name": "python",
   "nbconvert_exporter": "python",
   "pygments_lexer": "ipython3",
   "version": "3.6.4"
  }
 },
 "nbformat": 4,
 "nbformat_minor": 2
}
